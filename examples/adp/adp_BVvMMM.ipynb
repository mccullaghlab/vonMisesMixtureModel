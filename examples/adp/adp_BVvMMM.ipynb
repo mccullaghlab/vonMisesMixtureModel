{
 "cells": [
  {
   "cell_type": "code",
   "execution_count": 1,
   "id": "2e3fe373",
   "metadata": {},
   "outputs": [],
   "source": [
    "import numpy as np\n",
    "import MDAnalysis as md\n",
    "import matplotlib.pyplot as plt\n",
    "%matplotlib inline\n",
    "import torch\n",
    "from bvvmmm import multi_bvvmmm"
   ]
  },
  {
   "cell_type": "code",
   "execution_count": 2,
   "id": "31b307f8",
   "metadata": {},
   "outputs": [
    {
     "name": "stdout",
     "output_type": "stream",
     "text": [
      "Number of frames: 2000000\n"
     ]
    }
   ],
   "source": [
    "coord = md.Universe(\"diala_vacuum.parm7\",\"md_wrapped.nc\", \"md_1_wrapped.nc\")\n",
    "print(\"Number of frames:\", coord.trajectory.n_frames)\n",
    "# select protein\n",
    "protein = coord.select_atoms(\"protein\")\n",
    "# Calculate phi and psi angles for each residue\n",
    "# selection of atomgroups\n",
    "phi_sel = [coord.residues[1].phi_selection()]\n",
    "psi_sel = [coord.residues[1].psi_selection()]\n",
    "\n",
    "from MDAnalysis.analysis.dihedrals import Dihedral\n",
    "phi = Dihedral(phi_sel).run()\n",
    "psi = Dihedral(psi_sel).run()\n",
    "\n",
    "# format data for MultiSineBVVMMM\n",
    "phi_psi = np.column_stack((phi.results.angles,psi.results.angles)).reshape(-1,1,2)"
   ]
  },
  {
   "cell_type": "code",
   "execution_count": 3,
   "id": "8ff74404",
   "metadata": {},
   "outputs": [
    {
     "name": "stdout",
     "output_type": "stream",
     "text": [
      "(2000000, 1, 2)\n"
     ]
    }
   ],
   "source": [
    "print(phi_psi.shape)\n",
    "phi_psi = np.radians(phi_psi)"
   ]
  },
  {
   "cell_type": "code",
   "execution_count": 4,
   "id": "520c4d3f",
   "metadata": {},
   "outputs": [
    {
     "name": "stdout",
     "output_type": "stream",
     "text": [
      "Training on 1800000 samples and validating on 200000 samples.\n"
     ]
    },
    {
     "ename": "NameError",
     "evalue": "name 'SineVMEM' is not defined",
     "output_type": "error",
     "traceback": [
      "\u001b[0;31m---------------------------------------------------------------------------\u001b[0m",
      "\u001b[0;31mNameError\u001b[0m                                 Traceback (most recent call last)",
      "\u001b[0;32m/var/folders/td/dll8n_kj4vd0zxjm0xd9m7740000gq/T/ipykernel_71308/476357037.py\u001b[0m in \u001b[0;36m<module>\u001b[0;34m\u001b[0m\n\u001b[1;32m      1\u001b[0m \u001b[0mcomponents\u001b[0m \u001b[0;34m=\u001b[0m \u001b[0mnp\u001b[0m\u001b[0;34m.\u001b[0m\u001b[0marange\u001b[0m\u001b[0;34m(\u001b[0m\u001b[0;36m1\u001b[0m\u001b[0;34m,\u001b[0m\u001b[0;36m10\u001b[0m\u001b[0;34m,\u001b[0m\u001b[0;36m1\u001b[0m\u001b[0;34m)\u001b[0m\u001b[0;34m\u001b[0m\u001b[0;34m\u001b[0m\u001b[0m\n\u001b[0;32m----> 2\u001b[0;31m \u001b[0mmulti_bvvmmm\u001b[0m\u001b[0;34m.\u001b[0m\u001b[0mcomponent_scan\u001b[0m\u001b[0;34m(\u001b[0m\u001b[0mphi_psi\u001b[0m\u001b[0;34m,\u001b[0m \u001b[0mcomponents\u001b[0m\u001b[0;34m,\u001b[0m \u001b[0mtrain_frac\u001b[0m\u001b[0;34m=\u001b[0m\u001b[0;36m0.9\u001b[0m\u001b[0;34m)\u001b[0m\u001b[0;34m\u001b[0m\u001b[0;34m\u001b[0m\u001b[0m\n\u001b[0m",
      "\u001b[0;32m~/opt/anaconda3/lib/python3.9/site-packages/vonMisesMixtureModel-0.0.0-py3.9.egg/bvvmmm/multi_bvvmmm.py\u001b[0m in \u001b[0;36mcomponent_scan\u001b[0;34m(data, components, n_attempts, train_frac)\u001b[0m\n\u001b[1;32m     78\u001b[0m         \u001b[0mmodels\u001b[0m \u001b[0;34m=\u001b[0m \u001b[0;34m[\u001b[0m\u001b[0;34m]\u001b[0m\u001b[0;34m\u001b[0m\u001b[0;34m\u001b[0m\u001b[0m\n\u001b[1;32m     79\u001b[0m         \u001b[0;32mfor\u001b[0m \u001b[0mattempt\u001b[0m \u001b[0;32min\u001b[0m \u001b[0mrange\u001b[0m\u001b[0;34m(\u001b[0m\u001b[0mn_attempts\u001b[0m\u001b[0;34m)\u001b[0m\u001b[0;34m:\u001b[0m\u001b[0;34m\u001b[0m\u001b[0;34m\u001b[0m\u001b[0m\n\u001b[0;32m---> 80\u001b[0;31m             \u001b[0mmodel\u001b[0m \u001b[0;34m=\u001b[0m \u001b[0mSineVMEM\u001b[0m\u001b[0;34m(\u001b[0m\u001b[0mn_components\u001b[0m\u001b[0;34m=\u001b[0m\u001b[0mcomp\u001b[0m\u001b[0;34m,\u001b[0m \u001b[0mmax_iter\u001b[0m\u001b[0;34m=\u001b[0m\u001b[0;36m200\u001b[0m\u001b[0;34m,\u001b[0m \u001b[0mverbose\u001b[0m\u001b[0;34m=\u001b[0m\u001b[0;32mFalse\u001b[0m\u001b[0;34m,\u001b[0m \u001b[0mtol\u001b[0m\u001b[0;34m=\u001b[0m\u001b[0;36m1e-5\u001b[0m\u001b[0;34m)\u001b[0m\u001b[0;34m\u001b[0m\u001b[0;34m\u001b[0m\u001b[0m\n\u001b[0m\u001b[1;32m     81\u001b[0m             \u001b[0;31m# Fit using the training set only\u001b[0m\u001b[0;34m\u001b[0m\u001b[0;34m\u001b[0m\u001b[0m\n\u001b[1;32m     82\u001b[0m             \u001b[0mmodel\u001b[0m\u001b[0;34m.\u001b[0m\u001b[0mfit\u001b[0m\u001b[0;34m(\u001b[0m\u001b[0mtrain_data\u001b[0m\u001b[0;34m)\u001b[0m\u001b[0;34m\u001b[0m\u001b[0;34m\u001b[0m\u001b[0m\n",
      "\u001b[0;31mNameError\u001b[0m: name 'SineVMEM' is not defined"
     ]
    }
   ],
   "source": [
    "components = np.arange(1,10,1)\n",
    "ll, aic, bic, icl, cv_ll = multi_bvvmmm.component_scan(phi_psi, components, train_frac=0.9)"
   ]
  },
  {
   "cell_type": "code",
   "execution_count": null,
   "id": "ff124a60",
   "metadata": {},
   "outputs": [],
   "source": []
  }
 ],
 "metadata": {
  "kernelspec": {
   "display_name": "Python 3 (ipykernel)",
   "language": "python",
   "name": "python3"
  },
  "language_info": {
   "codemirror_mode": {
    "name": "ipython",
    "version": 3
   },
   "file_extension": ".py",
   "mimetype": "text/x-python",
   "name": "python",
   "nbconvert_exporter": "python",
   "pygments_lexer": "ipython3",
   "version": "3.9.13"
  }
 },
 "nbformat": 4,
 "nbformat_minor": 5
}
